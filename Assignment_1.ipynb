{
  "nbformat": 4,
  "nbformat_minor": 0,
  "metadata": {
    "colab": {
      "provenance": [],
      "authorship_tag": "ABX9TyOQuGK4dJM/UL62dI4EPyhM",
      "include_colab_link": true
    },
    "kernelspec": {
      "name": "python3",
      "display_name": "Python 3"
    },
    "language_info": {
      "name": "python"
    }
  },
  "cells": [
    {
      "cell_type": "markdown",
      "metadata": {
        "id": "view-in-github",
        "colab_type": "text"
      },
      "source": [
        "<a href=\"https://colab.research.google.com/github/kalyangorjana/Python_Advanced_Assignments/blob/main/Assignment_1.ipynb\" target=\"_parent\"><img src=\"https://colab.research.google.com/assets/colab-badge.svg\" alt=\"Open In Colab\"/></a>"
      ]
    },
    {
      "cell_type": "markdown",
      "source": [
        "Q1. What is the purpose of Python&#39;s OOP?\n",
        "\n",
        "\n",
        "```\n",
        "Answer:\n",
        "OOP is about code reuse.\n",
        "The main concept of OOPs is to bind the data and the functions that work on that together as a single unit so that no other part of \n",
        "the code can access this data. \n",
        "It aims to implement real-world entities like inheritance, polymorphisms, encapsulation, etc. in the programming.\n",
        "```\n",
        "\n",
        "\n"
      ],
      "metadata": {
        "id": "5396csypVzxT"
      }
    },
    {
      "cell_type": "markdown",
      "source": [
        "Q2. Where does an inheritance search look for an attribute?\n",
        "\n",
        "\n",
        "```\n",
        "Answer:\n",
        "An inheritance search looks for an attribute first in the instance object, then it will search in the class \n",
        "(which is the instance was created from), then in all higher superclasses, progressing from left to right (by default). \n",
        "The search stops at the first place the attribute is found.\n",
        "```\n",
        "\n"
      ],
      "metadata": {
        "id": "FYcLprFAWFZ9"
      }
    },
    {
      "cell_type": "markdown",
      "source": [
        "Q3. How do you distinguish between a class object and an instance object?\n",
        "\n",
        "\n",
        "```\n",
        "Answer:\n",
        "Classes are a kind of factory for creating multiple instances. Classes also support operator overloading methods, \n",
        "which instances inherit, and treat any functions nested in the class as methods for processing instances.\n",
        "```\n",
        "\n"
      ],
      "metadata": {
        "id": "uT-u55eMWDVu"
      }
    },
    {
      "cell_type": "markdown",
      "source": [
        "Q4. What makes the first argument in a class’s method function special?\n",
        "\n",
        "\n",
        "```\n",
        "Answer:\n",
        "It always receives the instance object that is the implied subject of the method call. \n",
        "It’s usually called 'self' by convention.\n",
        "```\n",
        "\n"
      ],
      "metadata": {
        "id": "MhWxPu8EV_TC"
      }
    },
    {
      "cell_type": "markdown",
      "source": [
        "Q5. What is the purpose of the __init__ method?\n",
        "\n",
        "\n",
        "```\n",
        "Answer:\n",
        "__init__ method nothing but a constructor,it is used to initializing the object’s state. The task of constructors is to \n",
        "initialize(assign values) to the data members of the class when an object of the class is created. Like methods, \n",
        "a constructor also contains a collection of statements(i.e. instructions) that are executed at the time of Object creation.\n",
        "```\n",
        "\n"
      ],
      "metadata": {
        "id": "Uz3msGy_V9tX"
      }
    },
    {
      "cell_type": "markdown",
      "source": [
        "Q6. What is the process for creating a class instance?\n",
        "\n",
        "\n",
        "```\n",
        "Answer:\n",
        "To create instances of a class, you call the class using class name and pass in whatever arguments its __init__ method accepts.\n",
        "Example:\n",
        "emp = Employee(\"Kalyan\",\"Data Scientist\")\n",
        "```\n",
        "\n"
      ],
      "metadata": {
        "id": "CPRAmfmrV8JW"
      }
    },
    {
      "cell_type": "markdown",
      "source": [
        "Q7. What is the process for creating a class?\n",
        "\n",
        "\n",
        "```\n",
        "Answer: To create a class, use the keyword class:\n",
        "Example:\n",
        "  class MyClass:\n",
        "    x = 5\n",
        "```\n",
        "\n"
      ],
      "metadata": {
        "id": "p58_EwZnV6G9"
      }
    },
    {
      "cell_type": "markdown",
      "source": [
        "Q8. How would you define the superclasses of a class?\n",
        "\n",
        "\n",
        "```\n",
        "Answer:\n",
        "The class from which a class inherits is called the parent or superclass. A class which inherits from a superclass \n",
        "is called a subclass, also called heir class or child class. Superclasses are sometimes called ancestors as well.\n",
        "\n",
        "Example:\n",
        "class a:\n",
        "  a = 10\n",
        "class b(a);\n",
        "  b = 20\n",
        "```\n",
        "\n"
      ],
      "metadata": {
        "id": "WDHF51gAV4Jo"
      }
    }
  ]
}