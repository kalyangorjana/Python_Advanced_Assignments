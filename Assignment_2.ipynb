{
  "nbformat": 4,
  "nbformat_minor": 0,
  "metadata": {
    "colab": {
      "provenance": [],
      "authorship_tag": "ABX9TyN2kWo3EJwzH2kMyPPgB9BY",
      "include_colab_link": true
    },
    "kernelspec": {
      "name": "python3",
      "display_name": "Python 3"
    },
    "language_info": {
      "name": "python"
    }
  },
  "cells": [
    {
      "cell_type": "markdown",
      "metadata": {
        "id": "view-in-github",
        "colab_type": "text"
      },
      "source": [
        "<a href=\"https://colab.research.google.com/github/kalyangorjana/Python_Advanced_Assignments/blob/main/Assignment_2.ipynb\" target=\"_parent\"><img src=\"https://colab.research.google.com/assets/colab-badge.svg\" alt=\"Open In Colab\"/></a>"
      ]
    },
    {
      "cell_type": "markdown",
      "source": [
        "Q1. What is the relationship between classes and modules?"
      ],
      "metadata": {
        "id": "oog2ttkQWgnt"
      }
    },
    {
      "cell_type": "markdown",
      "source": [
        "Classes and modules are related in that a module can contain classes and other code that can be referenced by classes. A class is a blueprint for an object, while a module is a collection of code that can be imported and used in other code."
      ],
      "metadata": {
        "id": "U99sFR8oVPTS"
      }
    },
    {
      "cell_type": "markdown",
      "source": [
        "Q2. How do you make instances and classes?"
      ],
      "metadata": {
        "id": "1rh-Zcq8Wzqs"
      }
    },
    {
      "cell_type": "markdown",
      "source": [
        "To make instances and classes, you must first define a class with the keyword class. This class should include any attributes, methods, and other code that will be used to define the behavior of any instances created from the class. Once the class is defined, you can create instances of the class by calling the class name and passing in any desired arguments."
      ],
      "metadata": {
        "id": "Zs1_i3plVhq0"
      }
    },
    {
      "cell_type": "markdown",
      "source": [
        "Q3. Where and how should be class attributes created?"
      ],
      "metadata": {
        "id": "1eB_FiHCWx7d"
      }
    },
    {
      "cell_type": "markdown",
      "source": [
        "Class attributes should be created inside the class definition. They can be declared using the class keyword, followed by the name of the attribute, and an assignment operator."
      ],
      "metadata": {
        "id": "M3_Q7y4mWAdg"
      }
    },
    {
      "cell_type": "markdown",
      "source": [
        "Q4. Where and how are instance attributes created?"
      ],
      "metadata": {
        "id": "OLdQqEcGWv2m"
      }
    },
    {
      "cell_type": "markdown",
      "source": [
        "Instance attributes are created inside a class definition. They can be assigned at the top of the class definition or inside a method, such as the __init__() method. Instance attributes are created when an object of that class is instantiated."
      ],
      "metadata": {
        "id": "ykHgPNxpWuoi"
      }
    },
    {
      "cell_type": "markdown",
      "source": [
        "Q5. What does the term &quot;self&quot; in a Python class mean?"
      ],
      "metadata": {
        "id": "UEFlGGyeWuRs"
      }
    },
    {
      "cell_type": "markdown",
      "source": [
        "In a Python class, the term “self” refers to the instance of the class. It is a reference to the instance of the class and is used to access the attributes and methods of the class. It is the first parameter of every method defined inside the class, including the __init__ method."
      ],
      "metadata": {
        "id": "BjWHDqCfXAwh"
      }
    },
    {
      "cell_type": "markdown",
      "source": [
        "Q6. How does a Python class handle operator overloading?"
      ],
      "metadata": {
        "id": "9SYwP8fvWsEo"
      }
    },
    {
      "cell_type": "markdown",
      "source": [
        "In Python, operator overloading is implemented by special methods which are defined in the class definition. These special methods are called magic methods and are denoted with double underscores. For example, the operator + is implemented by the __add__() magic method. By defining these methods, the class can define what happens when an operator is used on its instances."
      ],
      "metadata": {
        "id": "OKQqTmE0XgYb"
      }
    },
    {
      "cell_type": "markdown",
      "source": [
        "Q7. When do you consider allowing operator overloading of your classes?"
      ],
      "metadata": {
        "id": "oUUlgbc2WqVh"
      }
    },
    {
      "cell_type": "markdown",
      "source": [
        "Operator overloading should only be used when it is necessary to improve the readability or understandability of code. When there are certain operations that can be performed in a more concise way using operator overloading, it might be a good idea to consider it"
      ],
      "metadata": {
        "id": "PFcBjIoNXyLT"
      }
    },
    {
      "cell_type": "markdown",
      "source": [
        "Q8. What is the most popular form of operator overloading?"
      ],
      "metadata": {
        "id": "78FrgxwUWobs"
      }
    },
    {
      "cell_type": "markdown",
      "source": [
        "The most popular form of operator overloading is binary operator overloading, which is the ability to assign a specific operation to an operator like +, -, *, or / when used with two operands."
      ],
      "metadata": {
        "id": "Fhedz4oCX8Vt"
      }
    },
    {
      "cell_type": "markdown",
      "source": [
        "Q9. What are the two most important concepts to grasp in order to comprehend Python OOP code?"
      ],
      "metadata": {
        "id": "jWWjeiMyWj6A"
      }
    },
    {
      "cell_type": "markdown",
      "source": [
        "\n",
        "1. Classes: Classes are the building blocks of Python's object-oriented programming paradigm, allowing you to create complex data structures and objects.\n",
        "\n",
        "2. Inheritance: Inheritance allows you to create a hierarchy of classes, allowing you to inherit attributes and methods from one class to another, and giving you the ability to create robust and reusable code."
      ],
      "metadata": {
        "id": "6K4xz36JYEwD"
      }
    }
  ]
}